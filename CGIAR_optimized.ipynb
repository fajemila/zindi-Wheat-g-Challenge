{
  "nbformat": 4,
  "nbformat_minor": 0,
  "metadata": {
    "colab": {
      "name": "CGIAR STARTER.ipynb",
      "provenance": [],
      "mount_file_id": "https://github.com/fajemila/zindi-Wheat-g-Challenge/blob/master/CGIAR_STARTER.ipynb",
      "authorship_tag": "ABX9TyOHdObwB/uoN9QT1vGJXJ3F",
      "include_colab_link": true
    },
    "kernelspec": {
      "name": "python3",
      "display_name": "Python 3"
    },
    "accelerator": "GPU"
  },
  "cells": [
    {
      "cell_type": "markdown",
      "metadata": {
        "id": "view-in-github",
        "colab_type": "text"
      },
      "source": [
        "<a href=\"https://colab.research.google.com/github/fajemila/zindi-Wheat-g-Challenge/blob/master/CGIAR_optimized.ipynb\" target=\"_parent\"><img src=\"https://colab.research.google.com/assets/colab-badge.svg\" alt=\"Open In Colab\"/></a>"
      ]
    },
    {
      "cell_type": "code",
      "metadata": {
        "id": "cnU5eDqeUBtC",
        "colab_type": "code",
        "colab": {}
      },
      "source": [
        "\n",
        "import requests\n",
        "import requests, zipfile\n",
        "\n",
        "#the url and auth_value from the website \n",
        "url = \"https://api.zindi.africa/v1/competitions/cgiar-wheat-growth-stage-challenge/files/Images.zip\"\n",
        "myobj = {'auth_token': 'wLQWzzvtzxnYfG5kVe6CLxfg'} #use your own\n",
        "\n",
        "x = requests.post(url, data = myobj,stream=True)\n",
        "target_path = 'image.zip'\n"
      ],
      "execution_count": 1,
      "outputs": []
    },
    {
      "cell_type": "code",
      "metadata": {
        "id": "lkDg9Y9OUZaJ",
        "colab_type": "code",
        "colab": {}
      },
      "source": [
        "handle = open(target_path, \"wb\")\n",
        "for chunk in x.iter_content(chunk_size=512):\n",
        "    if chunk:  # filter out keep-alive new chunks\n",
        "        handle.write(chunk)\n",
        "handle.close()\n",
        "\n",
        "!unzip -qq /content/image.zip"
      ],
      "execution_count": 2,
      "outputs": []
    },
    {
      "cell_type": "code",
      "metadata": {
        "id": "j4HCWjO_UoG5",
        "colab_type": "code",
        "colab": {}
      },
      "source": [
        "import warnings\n",
        "warnings.filterwarnings('ignore')\n",
        "import torch,torchvision\n",
        "import torch.nn as nn\n",
        "from torch.utils.data import Dataset, DataLoader, Subset\n",
        "from torch.optim.lr_scheduler import ReduceLROnPlateau\n",
        "from sklearn.model_selection import StratifiedKFold, GroupKFold,train_test_split\n",
        "import pandas as pd\n",
        "import torch\n",
        "import numpy as np\n",
        "import gc\n",
        "import os\n",
        "from PIL import Image\n",
        "from PIL import ImageFile\n",
        "import cv2\n",
        "import time\n",
        "import datetime\n",
        "import warnings\n",
        "import random\n",
        "import matplotlib.pyplot as plt\n",
        "import seaborn as sns\n",
        "import albumentations\n",
        "from sklearn import metrics\n",
        "from sklearn.model_selection import train_test_split\n",
        "ImageFile.LOAD_TRUNCATED_IMAGES = True\n",
        "%matplotlib inline"
      ],
      "execution_count": 3,
      "outputs": []
    },
    {
      "cell_type": "code",
      "metadata": {
        "id": "MlonX6FlvnNh",
        "colab_type": "code",
        "colab": {}
      },
      "source": [
        "from keras.utils import to_categorical"
      ],
      "execution_count": 4,
      "outputs": []
    },
    {
      "cell_type": "code",
      "metadata": {
        "id": "KNMvtjZQvn9p",
        "colab_type": "code",
        "colab": {
          "base_uri": "https://localhost:8080/",
          "height": 159
        },
        "outputId": "91f9d28d-8fd3-4e11-bbe2-3dc3d8746ab4"
      },
      "source": [
        "!pip install wtfml"
      ],
      "execution_count": 5,
      "outputs": [
        {
          "output_type": "stream",
          "text": [
            "Collecting wtfml\n",
            "  Downloading https://files.pythonhosted.org/packages/c5/3e/73e4234353d8531a3060184af5fdb3f30799abb913b6309bf504f75f9065/wtfml-0.0.3-py3-none-any.whl\n",
            "Requirement already satisfied: scikit-learn>=0.22.1 in /usr/local/lib/python3.6/dist-packages (from wtfml) (0.22.2.post1)\n",
            "Requirement already satisfied: joblib>=0.11 in /usr/local/lib/python3.6/dist-packages (from scikit-learn>=0.22.1->wtfml) (0.16.0)\n",
            "Requirement already satisfied: numpy>=1.11.0 in /usr/local/lib/python3.6/dist-packages (from scikit-learn>=0.22.1->wtfml) (1.18.5)\n",
            "Requirement already satisfied: scipy>=0.17.0 in /usr/local/lib/python3.6/dist-packages (from scikit-learn>=0.22.1->wtfml) (1.4.1)\n",
            "Installing collected packages: wtfml\n",
            "Successfully installed wtfml-0.0.3\n"
          ],
          "name": "stdout"
        }
      ]
    },
    {
      "cell_type": "code",
      "metadata": {
        "id": "anmyAHSjhIGM",
        "colab_type": "code",
        "colab": {
          "base_uri": "https://localhost:8080/",
          "height": 35
        },
        "outputId": "885bda46-e2f4-4d90-fa52-925386bfc01b"
      },
      "source": [
        "device = torch.device('cuda:0' if torch.cuda.is_available() else 'cpu')\n",
        "device"
      ],
      "execution_count": 6,
      "outputs": [
        {
          "output_type": "execute_result",
          "data": {
            "text/plain": [
              "device(type='cuda', index=0)"
            ]
          },
          "metadata": {
            "tags": []
          },
          "execution_count": 6
        }
      ]
    },
    {
      "cell_type": "code",
      "metadata": {
        "id": "6fYG3d6l7Q_Y",
        "colab_type": "code",
        "colab": {}
      },
      "source": [
        "seed = 2020 # for reproductibility\n",
        "random.seed(seed)\n",
        "np.random.seed(seed)\n",
        "torch.manual_seed(seed)\n",
        "\n",
        "if torch.cuda.is_available(): \n",
        "    torch.cuda.manual_seed(seed)\n",
        "    torch.cuda.manual_seed_all(seed)\n",
        "    torch.backends.cudnn.deterministic = True\n",
        "    torch.backends.cudnn.benchmark = False"
      ],
      "execution_count": 7,
      "outputs": []
    },
    {
      "cell_type": "code",
      "metadata": {
        "id": "0QIpUw84vto-",
        "colab_type": "code",
        "colab": {}
      },
      "source": [
        "from wtfml.utils import EarlyStopping\n",
        "from sklearn import model_selection"
      ],
      "execution_count": 8,
      "outputs": []
    },
    {
      "cell_type": "code",
      "metadata": {
        "id": "15a7aR6eUoCw",
        "colab_type": "code",
        "colab": {}
      },
      "source": [
        "import pandas as pd\n",
        "data = pd.read_csv('/content/drive/My Drive/cgiar/Train.csv')\n",
        "submission = pd.read_csv('/content/drive/My Drive/cgiar/SampleSubmission.csv')"
      ],
      "execution_count": 9,
      "outputs": []
    },
    {
      "cell_type": "code",
      "metadata": {
        "id": "zg-v4qtiZBF1",
        "colab_type": "code",
        "colab": {
          "base_uri": "https://localhost:8080/",
          "height": 194
        },
        "outputId": "e1c1a859-313b-4744-8009-46d784152047"
      },
      "source": [
        "data.head()"
      ],
      "execution_count": 10,
      "outputs": [
        {
          "output_type": "execute_result",
          "data": {
            "text/html": [
              "<div>\n",
              "<style scoped>\n",
              "    .dataframe tbody tr th:only-of-type {\n",
              "        vertical-align: middle;\n",
              "    }\n",
              "\n",
              "    .dataframe tbody tr th {\n",
              "        vertical-align: top;\n",
              "    }\n",
              "\n",
              "    .dataframe thead th {\n",
              "        text-align: right;\n",
              "    }\n",
              "</style>\n",
              "<table border=\"1\" class=\"dataframe\">\n",
              "  <thead>\n",
              "    <tr style=\"text-align: right;\">\n",
              "      <th></th>\n",
              "      <th>UID</th>\n",
              "      <th>growth_stage</th>\n",
              "      <th>label_quality</th>\n",
              "    </tr>\n",
              "  </thead>\n",
              "  <tbody>\n",
              "    <tr>\n",
              "      <th>0</th>\n",
              "      <td>nwuCTQKz</td>\n",
              "      <td>4</td>\n",
              "      <td>2</td>\n",
              "    </tr>\n",
              "    <tr>\n",
              "      <th>1</th>\n",
              "      <td>NVGUOzWu</td>\n",
              "      <td>1</td>\n",
              "      <td>1</td>\n",
              "    </tr>\n",
              "    <tr>\n",
              "      <th>2</th>\n",
              "      <td>1IYVvHwA</td>\n",
              "      <td>1</td>\n",
              "      <td>1</td>\n",
              "    </tr>\n",
              "    <tr>\n",
              "      <th>3</th>\n",
              "      <td>8OEdWwmU</td>\n",
              "      <td>1</td>\n",
              "      <td>1</td>\n",
              "    </tr>\n",
              "    <tr>\n",
              "      <th>4</th>\n",
              "      <td>oc5iO04j</td>\n",
              "      <td>1</td>\n",
              "      <td>1</td>\n",
              "    </tr>\n",
              "  </tbody>\n",
              "</table>\n",
              "</div>"
            ],
            "text/plain": [
              "        UID  growth_stage  label_quality\n",
              "0  nwuCTQKz             4              2\n",
              "1  NVGUOzWu             1              1\n",
              "2  1IYVvHwA             1              1\n",
              "3  8OEdWwmU             1              1\n",
              "4  oc5iO04j             1              1"
            ]
          },
          "metadata": {
            "tags": []
          },
          "execution_count": 10
        }
      ]
    },
    {
      "cell_type": "code",
      "metadata": {
        "id": "VEoEJpSMsQyY",
        "colab_type": "code",
        "colab": {}
      },
      "source": [
        "mapping = {1:0,2:1,3:2,4:3,5:4,6:5,7:6}\n",
        "data['growth_stage'] = data['growth_stage'].map(mapping)"
      ],
      "execution_count": 11,
      "outputs": []
    },
    {
      "cell_type": "code",
      "metadata": {
        "id": "Dn-52Cohc8C6",
        "colab_type": "code",
        "colab": {
          "base_uri": "https://localhost:8080/",
          "height": 194
        },
        "outputId": "d71592e6-ee8d-47de-b3ff-0575041023fd"
      },
      "source": [
        "submission.head()"
      ],
      "execution_count": 12,
      "outputs": [
        {
          "output_type": "execute_result",
          "data": {
            "text/html": [
              "<div>\n",
              "<style scoped>\n",
              "    .dataframe tbody tr th:only-of-type {\n",
              "        vertical-align: middle;\n",
              "    }\n",
              "\n",
              "    .dataframe tbody tr th {\n",
              "        vertical-align: top;\n",
              "    }\n",
              "\n",
              "    .dataframe thead th {\n",
              "        text-align: right;\n",
              "    }\n",
              "</style>\n",
              "<table border=\"1\" class=\"dataframe\">\n",
              "  <thead>\n",
              "    <tr style=\"text-align: right;\">\n",
              "      <th></th>\n",
              "      <th>UID</th>\n",
              "      <th>growth_stage</th>\n",
              "    </tr>\n",
              "  </thead>\n",
              "  <tbody>\n",
              "    <tr>\n",
              "      <th>0</th>\n",
              "      <td>F3LbWkZq</td>\n",
              "      <td>0</td>\n",
              "    </tr>\n",
              "    <tr>\n",
              "      <th>1</th>\n",
              "      <td>6P4wLVzI</td>\n",
              "      <td>0</td>\n",
              "    </tr>\n",
              "    <tr>\n",
              "      <th>2</th>\n",
              "      <td>Tn6HIrdS</td>\n",
              "      <td>0</td>\n",
              "    </tr>\n",
              "    <tr>\n",
              "      <th>3</th>\n",
              "      <td>EYM5R1TK</td>\n",
              "      <td>0</td>\n",
              "    </tr>\n",
              "    <tr>\n",
              "      <th>4</th>\n",
              "      <td>fkcevlA0</td>\n",
              "      <td>0</td>\n",
              "    </tr>\n",
              "  </tbody>\n",
              "</table>\n",
              "</div>"
            ],
            "text/plain": [
              "        UID  growth_stage\n",
              "0  F3LbWkZq             0\n",
              "1  6P4wLVzI             0\n",
              "2  Tn6HIrdS             0\n",
              "3  EYM5R1TK             0\n",
              "4  fkcevlA0             0"
            ]
          },
          "metadata": {
            "tags": []
          },
          "execution_count": 12
        }
      ]
    },
    {
      "cell_type": "code",
      "metadata": {
        "id": "lFSeS0F_c7-R",
        "colab_type": "code",
        "colab": {
          "base_uri": "https://localhost:8080/",
          "height": 35
        },
        "outputId": "9a237a19-d348-43bb-cd74-cc6052154e58"
      },
      "source": [
        "submission.shape"
      ],
      "execution_count": 13,
      "outputs": [
        {
          "output_type": "execute_result",
          "data": {
            "text/plain": [
              "(3558, 2)"
            ]
          },
          "metadata": {
            "tags": []
          },
          "execution_count": 13
        }
      ]
    },
    {
      "cell_type": "code",
      "metadata": {
        "id": "G0Q02IMnZCVS",
        "colab_type": "code",
        "colab": {
          "base_uri": "https://localhost:8080/",
          "height": 159
        },
        "outputId": "d8c8fc7a-b515-4d3c-9de8-ad1f3d7fcffa"
      },
      "source": [
        "data.growth_stage.value_counts()"
      ],
      "execution_count": 14,
      "outputs": [
        {
          "output_type": "execute_result",
          "data": {
            "text/plain": [
              "0    3057\n",
              "6    2335\n",
              "3    1712\n",
              "1    1389\n",
              "4    1092\n",
              "2     689\n",
              "5     421\n",
              "Name: growth_stage, dtype: int64"
            ]
          },
          "metadata": {
            "tags": []
          },
          "execution_count": 14
        }
      ]
    },
    {
      "cell_type": "code",
      "metadata": {
        "id": "BfP307X0ZHK2",
        "colab_type": "code",
        "colab": {
          "base_uri": "https://localhost:8080/",
          "height": 70
        },
        "outputId": "b14d8fc8-a80e-4fdc-bc5c-36231234643f"
      },
      "source": [
        "data.label_quality.value_counts()"
      ],
      "execution_count": 15,
      "outputs": [
        {
          "output_type": "execute_result",
          "data": {
            "text/plain": [
              "1    7839\n",
              "2    2856\n",
              "Name: label_quality, dtype: int64"
            ]
          },
          "metadata": {
            "tags": []
          },
          "execution_count": 15
        }
      ]
    },
    {
      "cell_type": "code",
      "metadata": {
        "id": "VAIM23b9ZNBs",
        "colab_type": "code",
        "colab": {
          "base_uri": "https://localhost:8080/",
          "height": 298
        },
        "outputId": "299d6885-5765-40ef-c7c3-01c1dac2027b"
      },
      "source": [
        "import seaborn as sns\n",
        "sns.barplot(x='growth_stage',y='label_quality',data=data)"
      ],
      "execution_count": 16,
      "outputs": [
        {
          "output_type": "execute_result",
          "data": {
            "text/plain": [
              "<matplotlib.axes._subplots.AxesSubplot at 0x7fa55daa4b00>"
            ]
          },
          "metadata": {
            "tags": []
          },
          "execution_count": 16
        },
        {
          "output_type": "display_data",
          "data": {
            "image/png": "[encoded data removed]",
            "text/plain": [
              "<Figure size 432x288 with 1 Axes>"
            ]
          },
          "metadata": {
            "tags": [],
            "needs_background": "light"
          }
        }
      ]
    },
    {
      "cell_type": "code",
      "metadata": {
        "id": "RGjHQzULZUWZ",
        "colab_type": "code",
        "colab": {
          "base_uri": "https://localhost:8080/",
          "height": 106
        },
        "outputId": "393380dc-f168-4d9a-deff-ca6926775af5"
      },
      "source": [
        "import matplotlib.image as img\n",
        "fig,ax = plt.subplots(1,5,figsize=(15,10))\n",
        "\n",
        "for i,idx in enumerate(data[data['growth_stage'] == 4]['UID'][-5:]):\n",
        "    path = '/content/Images/' + idx + '.jpeg'\n",
        "    ax[i].imshow(img.imread(path))"
      ],
      "execution_count": 17,
      "outputs": [
        {
          "output_type": "display_data",
          "data": {
            "image/png": "[encoded data removed]",
            "text/plain": [
              "<Figure size 1080x720 with 5 Axes>"
            ]
          },
          "metadata": {
            "tags": [],
            "needs_background": "light"
          }
        }
      ]
    },
    {
      "cell_type": "code",
      "metadata": {
        "id": "5zcmuaveaw8W",
        "colab_type": "code",
        "colab": {
          "base_uri": "https://localhost:8080/",
          "height": 372
        },
        "outputId": "afedf024-a2c3-4868-b219-e1dc8a573f63"
      },
      "source": [
        "from PIL import Image\n",
        "import cv2\n",
        "for ind in data[data['growth_stage'] == 5]['UID'][-5:]:\n",
        "    pathe = '/content/Images/' + ind + '.jpeg'\n",
        "    \n",
        "    imgr = cv2.imread(pathe)\n",
        "    print(imgr.size)\n",
        "    imgr = cv2.resize(imgr,dsize=(256,256))\n",
        "\n",
        "    print(imgr.size)\n",
        "    print(imgr.shape)#oe)\n",
        "    print(type(imgr))"
      ],
      "execution_count": 18,
      "outputs": [
        {
          "output_type": "stream",
          "text": [
            "282624\n",
            "196608\n",
            "(256, 256, 3)\n",
            "<class 'numpy.ndarray'>\n",
            "273408\n",
            "196608\n",
            "(256, 256, 3)\n",
            "<class 'numpy.ndarray'>\n",
            "325632\n",
            "196608\n",
            "(256, 256, 3)\n",
            "<class 'numpy.ndarray'>\n",
            "244224\n",
            "196608\n",
            "(256, 256, 3)\n",
            "<class 'numpy.ndarray'>\n",
            "259584\n",
            "196608\n",
            "(256, 256, 3)\n",
            "<class 'numpy.ndarray'>\n"
          ],
          "name": "stdout"
        }
      ]
    },
    {
      "cell_type": "code",
      "metadata": {
        "id": "S4WLhP-sbc1v",
        "colab_type": "code",
        "colab": {}
      },
      "source": [
        "class CGIARGWHEAT(Dataset):\n",
        "    def __init__(self, data, traindata = None, transform = None):\n",
        "        super().__init__()\n",
        "        self.data = data\n",
        "        self.path = path\n",
        "        self.transform = transform\n",
        "        self.traindata = traindata\n",
        "    def __len__(self):\n",
        "        return len(self.data)\n",
        "    def __getitem__(self,index):\n",
        "        img_path = '/content/Images/' + self.data.iloc[index]['UID'] + '.jpeg'\n",
        "        #image = img\n",
        "        image = cv2.imread(img_path)\n",
        "        image = torch.Tensor(cv2.resize(image,dsize= (299,299))).permute(2,0,1)\n",
        "        # image = image[0:224, 0:224]\n",
        "        if self.transform:#s:\n",
        "            image = self.transform(image)#s(image)\n",
        "            \n",
        "        if self.traindata:\n",
        "            label = self.data.iloc[index]['growth_stage']\n",
        "            return image,label\n",
        "        else:\n",
        "            return image"
      ],
      "execution_count": 20,
      "outputs": []
    },
    {
      "cell_type": "code",
      "metadata": {
        "id": "rIKjJ8tZwLW6",
        "colab_type": "code",
        "colab": {}
      },
      "source": [
        "class CGIARGWHEAT:\n",
        "    def __init__(self,image_paths,targets,resize=None,augmentations=None):\n",
        "        self.image_paths = image_paths\n",
        "        self.targets = targets\n",
        "        self.resize = resize\n",
        "        self.augmentations = augmentations\n",
        "    def __len__(self):\n",
        "        return len(self.image_paths)\n",
        "    def __getitem__(self, item):\n",
        "        image = Image.open(self.image_paths[item])\n",
        "        image = image.convert(\"RGB\")\n",
        "        targets = self.targets[item]\n",
        "        if self.resize is not None:\n",
        "            image = image.resize(\n",
        "                        (self.resize[1], self.resize[0]),\n",
        "                        resample=Image.BILINEAR\n",
        "            )\n",
        "        image = np.array(image)\n",
        "        if self.augmentations is not None:\n",
        "            augmented = self.augmentations(image=image)\n",
        "            image = augmented[\"image\"]\n",
        "        image = np.transpose(image, (2, 0, 1)).astype(np.float32)\n",
        "        return {\n",
        "            \"image\": torch.tensor(image, dtype=torch.float),\n",
        "            \"targets\": torch.tensor(to_categorical(targets,7), dtype=torch.long),\n",
        "        }"
      ],
      "execution_count": 41,
      "outputs": []
    },
    {
      "cell_type": "code",
      "metadata": {
        "id": "uT9OtLuzyH3V",
        "colab_type": "code",
        "colab": {}
      },
      "source": [
        "# engine.py\n",
        "import torch\n",
        "import torch.nn as nn\n",
        "from tqdm import tqdm\n",
        "def train_fn(data_loader, model, optimizer, device):\n",
        "    avg_loss = 0\n",
        "    model.train()\n",
        "    for data in data_loader:\n",
        "        inputs = data[\"image\"]\n",
        "        targets = data[\"targets\"]\n",
        "        inputs = inputs.to(device, dtype=torch.float)\n",
        "        targets = targets.to(device, dtype=torch.float)\n",
        "        optimizer.zero_grad()\n",
        "        outputs = model(inputs)\n",
        "        loss = nn.BCELoss()(outputs, targets)\n",
        "        loss.backward()\n",
        "        optimizer.step()\n",
        "        avg_loss+=loss.item()* data[\"image\"].size(0)\n",
        "\n",
        "    # avg_loss_nump = avg_loss.cpu().detach().numpy()\n",
        "    print('[Training] Loss: {:.5f}'.format( avg_loss/len(data_loader.sampler)))\n"
      ],
      "execution_count": 20,
      "outputs": []
    },
    {
      "cell_type": "code",
      "metadata": {
        "id": "nr7RvJgNyH0m",
        "colab_type": "code",
        "colab": {}
      },
      "source": [
        "def evaluate(data_loader, model, device):\n",
        "    model.eval()\n",
        "    final_targets = []\n",
        "    final_outputs = []\n",
        "    avg_loss = 0\n",
        "    avg_acc = 0\n",
        "    with torch.no_grad():\n",
        "        for data in data_loader:\n",
        "            inputs = data[\"image\"]\n",
        "            targets = data[\"targets\"]\n",
        "            inputs = inputs.to(device, dtype=torch.float)\n",
        "            targets = targets.to(device, dtype=torch.float)\n",
        "            output = model(inputs)\n",
        "            loss = nn.BCELoss()(output, targets)\n",
        "            targets = targets.argmax(1)\n",
        "            output = output.argmax(1)  #y.argmax(1) == pred.argmax(1)\n",
        "          #avg_acc += (targets.argmax(1) == output.argmax(1)).float().mean()\n",
        "            final_targets.extend(targets)\n",
        "            final_outputs.extend(output)\n",
        "            avg_loss+=loss.item()* data[\"image\"].size(0)\n",
        "       # avg_acc_nump = avg_acc.cpu().detach().numpy()\n",
        "    print('[Evaluation] Loss: {:.5f}'.format(avg_loss/len(data_loader.sampler)))\n",
        "    return final_outputs, final_targets"
      ],
      "execution_count": 57,
      "outputs": []
    },
    {
      "cell_type": "code",
      "metadata": {
        "id": "RTVcAKwIyHxd",
        "colab_type": "code",
        "colab": {}
      },
      "source": [
        "# create folds\n",
        "df = pd.read_csv('/content/drive/My Drive/cgiar/Train.csv')\n",
        "df[\"kfold\"] = -1    \n",
        "df = df.sample(frac=1).reset_index(drop=True)\n",
        "y = df.growth_stage.values\n",
        "kf = model_selection.StratifiedKFold(n_splits=5)\n",
        "\n",
        "for f, (t_, v_) in enumerate(kf.split(X=df, y=y)):\n",
        "    df.loc[v_, 'kfold'] = f\n",
        "\n",
        "df.to_csv(\"train_folds.csv\", index=False)"
      ],
      "execution_count": 22,
      "outputs": []
    },
    {
      "cell_type": "code",
      "metadata": {
        "id": "AhlGS6fmyHuX",
        "colab_type": "code",
        "colab": {}
      },
      "source": [
        "from torch.nn import functional as F"
      ],
      "execution_count": 23,
      "outputs": []
    },
    {
      "cell_type": "code",
      "metadata": {
        "id": "US42xp5YyHpb",
        "colab_type": "code",
        "colab": {}
      },
      "source": [
        "class Model(nn.Module):\n",
        "    def __init__(self, arch):\n",
        "        super(Model, self).__init__()\n",
        "        self.arch = arch\n",
        "        if 'ResNet' in str(arch.__class__):\n",
        "            self.arch.fc = nn.Linear(in_features=512, out_features=7, bias=True)\n",
        "        if 'EfficientNet' in str(arch.__class__):\n",
        "            self.arch._fc = nn.Linear(in_features=1280, out_features=7, bias=True)\n",
        "        if 'DenseNet' in str(arch.__class__):\n",
        "            self.arch.classifier = nn.Linear(in_features=1024, out_features=7, bias=True)\n",
        "        self.Linear = nn.Linear(1024,2)\n",
        "    def forward(self, inputs):\n",
        "        x = inputs\n",
        "        x = self.arch(x)\n",
        "        # x = self.Linear(x)\n",
        "        x = F.sigmoid(x)\n",
        "        return x"
      ],
      "execution_count": 32,
      "outputs": []
    },
    {
      "cell_type": "code",
      "metadata": {
        "id": "KM5KJioskx4i",
        "colab_type": "code",
        "colab": {}
      },
      "source": [
        "class RMSELoss(nn.Module):\n",
        "    def __init__(self, eps=1e-6):\n",
        "        super().__init__()\n",
        "        self.mse = nn.MSELoss()\n",
        "        self.eps = eps\n",
        "        \n",
        "    def forward(self,yhat,y):\n",
        "        loss = torch.sqrt(self.mse(yhat,y) + self.eps)\n",
        "        return loss"
      ],
      "execution_count": 25,
      "outputs": []
    },
    {
      "cell_type": "code",
      "metadata": {
        "id": "NXEQhvrazF4F",
        "colab_type": "code",
        "colab": {}
      },
      "source": [
        "from math import sqrt"
      ],
      "execution_count": 58,
      "outputs": []
    },
    {
      "cell_type": "code",
      "metadata": {
        "id": "rVakOo8czF0j",
        "colab_type": "code",
        "colab": {}
      },
      "source": [
        "def train(fold):\n",
        "    training_data_path = '/content/Images' \n",
        "    df =  pd.read_csv(\"/content/train_folds.csv\")\n",
        "    device = \"cuda\"\n",
        "    epochs = 50\n",
        "    train_bs = 16\n",
        "    valid_bs = 16\n",
        "    mapping = {1:0,2:1,3:2,4:3,5:4,6:5,7:6}\n",
        "    df['growth_stage'] = df['growth_stage'].map(mapping)\n",
        "    df_train = df[df.kfold != fold].reset_index(drop=True)\n",
        "    df_valid = df[df.kfold == fold].reset_index(drop=True)\n",
        "    arch = torchvision.models.densenet121(pretrained=True)\n",
        "    model = Model(arch=arch)\n",
        "    model.to(device)\n",
        "    mean = (0.485, 0.456, 0.406)\n",
        "    std = (0.229, 0.224, 0.225)\n",
        "    train_aug = albumentations.Compose([albumentations.Normalize(mean, std, max_pixel_value=255.0, always_apply=True),\n",
        "            albumentations.ShiftScaleRotate(shift_limit=0.0625, scale_limit=0.1, rotate_limit=15),\n",
        "            albumentations.Flip(p=0.5)])\n",
        "\n",
        "    valid_aug = albumentations.Compose([albumentations.Normalize(mean, std, max_pixel_value=255.0, always_apply=True)])\n",
        "\n",
        "    train_images = df_train.UID.values.tolist()\n",
        "    train_images = [os.path.join(training_data_path, i + '.jpeg') for i in train_images]\n",
        "    train_targets = df_train.growth_stage.values\n",
        "\n",
        "    valid_images = df_valid.UID.values.tolist()\n",
        "    valid_images = [os.path.join(training_data_path, i+'.jpeg') for i in valid_images]\n",
        "    valid_targets = df_valid.growth_stage.values\n",
        "\n",
        "    train_dataset = CGIARGWHEAT(image_paths=train_images,targets=train_targets,resize=(256, 256),augmentations=train_aug)\n",
        "    train_loader = torch.utils.data.DataLoader(train_dataset, batch_size=train_bs, shuffle=True, num_workers=4)\n",
        "\n",
        "    valid_dataset = CGIARGWHEAT(image_paths=valid_images,targets=valid_targets, resize=(256, 256),augmentations=valid_aug)\n",
        "\n",
        "\n",
        "    valid_loader = torch.utils.data.DataLoader(valid_dataset, batch_size=valid_bs, shuffle=False, num_workers=4)\n",
        "\n",
        "    optimizer = torch.optim.Adam(model.parameters(), lr=1e-5)\n",
        "    scheduler = torch.optim.lr_scheduler.ReduceLROnPlateau(optimizer,patience=3,threshold=0.001,mode=\"min\")\n",
        "\n",
        "    es = EarlyStopping(patience=5, mode=\"min\")\n",
        "\n",
        "    for epoch in range(epochs):\n",
        "        train_loss = train_fn(train_loader, model, optimizer, device=device)\n",
        "        predictions, target = evaluate(\n",
        "            valid_loader, model, device=device\n",
        "        )\n",
        "        rmse = sqrt(metrics.mean_squared_error(target, predictions))\n",
        "        print(f\"Epoch = {epoch}, RMSE = {rmse}\")\n",
        "        scheduler.step(rmse)\n",
        "\n",
        "        es(rmse, model, model_path=f\"model_fold_{fold}.bin\")\n",
        "        if es.early_stop:\n",
        "            print(\"Early stopping\")\n",
        "            break#l"
      ],
      "execution_count": 59,
      "outputs": []
    },
    {
      "cell_type": "code",
      "metadata": {
        "id": "lPQBHrkEzFxj",
        "colab_type": "code",
        "colab": {
          "base_uri": "https://localhost:8080/",
          "height": 88
        },
        "outputId": "5584ebd6-d2a3-4496-bcb0-f93d8c35c4b3"
      },
      "source": [
        "train(0)\n",
        "train(1)\n",
        "train(2)\n",
        "train(3)\n",
        "train(4)"
      ],
      "execution_count": null,
      "outputs": [
        {
          "output_type": "stream",
          "text": [
            "[Training] Loss: 0.45596\n",
            "[Evaluation] Loss: 0.33413\n",
            "Epoch = 0, RMSE = 2.579362116765745\n",
            "Validation score improved (inf --> 2.579362116765745). Saving model!\n"
          ],
          "name": "stdout"
        }
      ]
    },
    {
      "cell_type": "code",
      "metadata": {
        "id": "D_gd2eGexdB9",
        "colab_type": "code",
        "colab": {}
      },
      "source": [
        "# our dataloader is ready.\n",
        "# let's make model\n",
        "\n",
        "# building blocks for mobilenet.\n",
        "# name Conv and Conv_dw are following the terms used in mobilenet paper (https://arxiv.org/pdf/1704.04861.pdf)\n",
        "\n",
        "class Conv(nn.Module):\n",
        "    def __init__(self, in_channel, out_channel, kernel_size=3, stride=1, padding=1):\n",
        "        super().__init__()\n",
        "        self.layers = nn.Sequential(\n",
        "                nn.Conv2d(in_channel, out_channel, kernel_size=kernel_size, stride=stride, padding=padding, bias=False),\n",
        "                nn.BatchNorm2d(out_channel),\n",
        "                nn.ReLU(inplace=True)\n",
        "            )\n",
        "        \n",
        "    def forward(self, input):\n",
        "        return self.layers(input)\n",
        "    \n",
        "class Conv_dw_Conv(nn.Module):\n",
        "    # Conv dw layer followed by Conv layer.\n",
        "    # implemented this way since every conv dw layer is followed by conv layer with kernel size 1, stride 1 with some out_channel\n",
        "    def __init__(self, in_channel, out_channel, kernel_size=3, stride=1, padding=1):\n",
        "        super().__init__()\n",
        "        self.layers = nn.Sequential(\n",
        "                nn.Conv2d(in_channel, in_channel, kernel_size, stride, padding, bias=False, groups=in_channel),\n",
        "                nn.BatchNorm2d(in_channel),\n",
        "                nn.ReLU(inplace=True),\n",
        "                Conv(in_channel, out_channel, kernel_size=1, stride=1, padding=0)\n",
        "            )\n",
        "        \n",
        "    def forward(self, input):\n",
        "        return self.layers(input)\n",
        "    \n",
        "    \n",
        "class MobileNet(nn.Module):\n",
        "    def __init__(self, num_classes):\n",
        "        super().__init__()\n",
        "        \n",
        "        self.num_classes = num_classes\n",
        "        \n",
        "        self.model = nn.Sequential(\n",
        "                Conv(3, 32, stride=2),\n",
        "                Conv_dw_Conv(32, 64, kernel_size=3, stride=1),\n",
        "                Conv_dw_Conv(64, 128, kernel_size=3, stride=2),\n",
        "                Conv_dw_Conv(128, 128, kernel_size=3, stride=1),\n",
        "                Conv_dw_Conv(128, 256, kernel_size=3, stride=2),\n",
        "                Conv_dw_Conv(256, 256, kernel_size=3, stride=1),\n",
        "                Conv_dw_Conv(256, 512, kernel_size=3, stride=2),\n",
        "                Conv_dw_Conv(512, 512, kernel_size=3, stride=1),\n",
        "                Conv_dw_Conv(512, 512, kernel_size=3, stride=1),\n",
        "                Conv_dw_Conv(512, 512, kernel_size=3, stride=1),\n",
        "                Conv_dw_Conv(512, 512, kernel_size=3, stride=1),\n",
        "                Conv_dw_Conv(512, 512, kernel_size=3, stride=1),\n",
        "                Conv_dw_Conv(512, 1024, kernel_size=3, stride=2),\n",
        "                Conv_dw_Conv(1024, 1024, kernel_size=3, stride=1)\n",
        "        )\n",
        "        \n",
        "        \n",
        "        self.avg_pool = nn.AdaptiveAvgPool2d(1)\n",
        "        self.fc = nn.Linear(1024, num_classes)\n",
        "        \n",
        "    def forward(self, input):\n",
        "        x = self.model(input)\n",
        "        x = self.avg_pool(x)\n",
        "        x = x.view(-1, 1024)\n",
        "        out = self.fc(x)\n",
        "        return out"
      ],
      "execution_count": null,
      "outputs": []
    },
    {
      "cell_type": "code",
      "metadata": {
        "id": "XcKfDQ7qhEJn",
        "colab_type": "code",
        "colab": {
          "base_uri": "https://localhost:8080/",
          "height": 34
        },
        "outputId": "b05cc519-c704-4fd1-cc46-eff76da00e8e"
      },
      "source": [
        "\n",
        "train_losses = []\n",
        "valid_losses = []\n",
        "for epoch in range(1, num_epochs + 1):\n",
        "    y_true = []\n",
        "    y_pred = []\n",
        "    train_loss = 0.0\n",
        "    valid_loss = 0.0\n",
        "    # scheduler.step()\n",
        "    model_ft.train()\n",
        "    for data, target in train_loader:\n",
        "        data = data.to(device)\n",
        "        target = target.to(device)\n",
        "        optimizer.zero_grad()\n",
        "        output = model_ft(data)\n",
        "        # target = target.unsqueeze(1).type_as(output)\n",
        "        loss = criterion(output, target)\n",
        "        loss.backward()\n",
        "        optimizer.step()\n",
        "        \n",
        "        train_loss += loss.item() * data.size(0)\n",
        "    model_ft.eval()\n",
        "    with torch.no_grad():\n",
        "        for data, target in valid_loader:\n",
        "            data = data.to(device)\n",
        "            target = target.to(device)\n",
        "            # target = target.unsqueeze(1).type_as(output)\n",
        "            output = model_ft(data)\n",
        "            loss = criterion(output, target)\n",
        "            valid_loss += loss.item() * data.size(0)\n",
        "    # calculate-average-losses\n",
        "    train_loss = train_loss/len(train_loader.sampler)\n",
        "    valid_loss = valid_loss/len(valid_loader.sampler)\n",
        "    train_losses.append(train_loss)\n",
        "    valid_losses.append(valid_loss)\n",
        "    # print-training/validation-statistics\n",
        "    print('Epoch: {} \\tTraining Loss: {:.6f} \\tValidation Loss: {:.6f}'.format(epoch, train_loss, valid_loss))"
      ],
      "execution_count": null,
      "outputs": [
        {
          "output_type": "stream",
          "text": [
            "Epoch: 1 \tTraining Loss: 1.043769 \tValidation Loss: 1.261589\n"
          ],
          "name": "stdout"
        }
      ]
    }
  ]
}