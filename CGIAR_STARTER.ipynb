{
  "nbformat": 4,
  "nbformat_minor": 0,
  "metadata": {
    "colab": {
      "name": "CGIAR STARTER.ipynb",
      "provenance": [],
      "mount_file_id": "https://github.com/fajemila/zindi-Wheat-g-Challenge/blob/master/CGIAR_STARTER.ipynb",
      "authorship_tag": "ABX9TyN6AJxMoFlpRPJXERjTtd6y",
      "include_colab_link": true
    },
    "kernelspec": {
      "name": "python3",
      "display_name": "Python 3"
    },
    "accelerator": "GPU"
  },
  "cells": [
    {
      "cell_type": "markdown",
      "metadata": {
        "id": "view-in-github",
        "colab_type": "text"
      },
      "source": [
        "<a href=\"https://colab.research.google.com/github/fajemila/zindi-Wheat-g-Challenge/blob/master/CGIAR_STARTER.ipynb\" target=\"_parent\"><img src=\"https://colab.research.google.com/assets/colab-badge.svg\" alt=\"Open In Colab\"/></a>"
      ]
    },
    {
      "cell_type": "code",
      "metadata": {
        "id": "cnU5eDqeUBtC",
        "colab_type": "code",
        "colab": {}
      },
      "source": [
        "\n",
        "import requests\n",
        "import requests, zipfile\n",
        "\n",
        "#the url and auth_value from the website \n",
        "url = \"https://api.zindi.africa/v1/competitions/cgiar-wheat-growth-stage-challenge/files/Images.zip\"\n",
        "myobj = {'auth_token': 'wLQWzzvtzxnYfG5kVe6CLxfg'} #use your own\n",
        "\n",
        "x = requests.post(url, data = myobj,stream=True)\n",
        "target_path = 'image.zip'\n"
      ],
      "execution_count": 1,
      "outputs": []
    },
    {
      "cell_type": "code",
      "metadata": {
        "id": "lkDg9Y9OUZaJ",
        "colab_type": "code",
        "colab": {}
      },
      "source": [
        "handle = open(target_path, \"wb\")\n",
        "for chunk in x.iter_content(chunk_size=512):\n",
        "    if chunk:  # filter out keep-alive new chunks\n",
        "        handle.write(chunk)\n",
        "handle.close()\n",
        "\n",
        "!unzip -qq /content/image.zip"
      ],
      "execution_count": 2,
      "outputs": []
    },
    {
      "cell_type": "code",
      "metadata": {
        "id": "peLKYr2OVUSw",
        "colab_type": "code",
        "colab": {
          "base_uri": "https://localhost:8080/",
          "height": 527
        },
        "outputId": "8ca767e1-03ea-4a26-8345-1ae4146222fe"
      },
      "source": [
        "!pip install efficientnet_pytorch torchtoolbox\n",
        "!pip install resnet_pytorch"
      ],
      "execution_count": 3,
      "outputs": [
        {
          "output_type": "stream",
          "text": [
            "Collecting efficientnet_pytorch\n",
            "  Downloading https://files.pythonhosted.org/packages/4e/83/f9c5f44060f996279e474185ebcbd8dbd91179593bffb9abe3afa55d085b/efficientnet_pytorch-0.7.0.tar.gz\n",
            "Collecting torchtoolbox\n",
            "\u001b[?25l  Downloading https://files.pythonhosted.org/packages/a2/b3/720399783618f307c6b1cac4d2507602514720df66f26ccb57319a75d9e1/torchtoolbox-0.1.5-py3-none-any.whl (58kB)\n",
            "\u001b[K     |████████████████████████████████| 61kB 4.1MB/s \n",
            "\u001b[?25hRequirement already satisfied: torch in /usr/local/lib/python3.6/dist-packages (from efficientnet_pytorch) (1.6.0+cu101)\n",
            "Requirement already satisfied: pyarrow in /usr/local/lib/python3.6/dist-packages (from torchtoolbox) (0.14.1)\n",
            "Requirement already satisfied: opencv-python in /usr/local/lib/python3.6/dist-packages (from torchtoolbox) (4.1.2.30)\n",
            "Requirement already satisfied: lmdb in /usr/local/lib/python3.6/dist-packages (from torchtoolbox) (0.99)\n",
            "Requirement already satisfied: six in /usr/local/lib/python3.6/dist-packages (from torchtoolbox) (1.15.0)\n",
            "Requirement already satisfied: tqdm in /usr/local/lib/python3.6/dist-packages (from torchtoolbox) (4.41.1)\n",
            "Requirement already satisfied: scipy in /usr/local/lib/python3.6/dist-packages (from torchtoolbox) (1.4.1)\n",
            "Requirement already satisfied: numpy in /usr/local/lib/python3.6/dist-packages (from torchtoolbox) (1.18.5)\n",
            "Requirement already satisfied: scikit-learn in /usr/local/lib/python3.6/dist-packages (from torchtoolbox) (0.22.2.post1)\n",
            "Requirement already satisfied: future in /usr/local/lib/python3.6/dist-packages (from torch->efficientnet_pytorch) (0.16.0)\n",
            "Requirement already satisfied: joblib>=0.11 in /usr/local/lib/python3.6/dist-packages (from scikit-learn->torchtoolbox) (0.16.0)\n",
            "Building wheels for collected packages: efficientnet-pytorch\n",
            "  Building wheel for efficientnet-pytorch (setup.py) ... \u001b[?25l\u001b[?25hdone\n",
            "  Created wheel for efficientnet-pytorch: filename=efficientnet_pytorch-0.7.0-cp36-none-any.whl size=16031 sha256=8f858a791fa6d655375b8e622e094d907ace03ae2a0ba3750c1658e2914d001f\n",
            "  Stored in directory: /root/.cache/pip/wheels/e9/c6/e1/7a808b26406239712cfce4b5ceeb67d9513ae32aa4b31445c6\n",
            "Successfully built efficientnet-pytorch\n",
            "Installing collected packages: efficientnet-pytorch, torchtoolbox\n",
            "Successfully installed efficientnet-pytorch-0.7.0 torchtoolbox-0.1.5\n",
            "Collecting resnet_pytorch\n",
            "  Downloading https://files.pythonhosted.org/packages/78/08/63f61c49fba28416244c98a425ac180d3cbea15884c5d29fafd720ae89e6/resnet_pytorch-0.2.0-py2.py3-none-any.whl\n",
            "Requirement already satisfied: torch in /usr/local/lib/python3.6/dist-packages (from resnet_pytorch) (1.6.0+cu101)\n",
            "Requirement already satisfied: future in /usr/local/lib/python3.6/dist-packages (from torch->resnet_pytorch) (0.16.0)\n",
            "Requirement already satisfied: numpy in /usr/local/lib/python3.6/dist-packages (from torch->resnet_pytorch) (1.18.5)\n",
            "Installing collected packages: resnet-pytorch\n",
            "Successfully installed resnet-pytorch-0.2.0\n"
          ],
          "name": "stdout"
        }
      ]
    },
    {
      "cell_type": "code",
      "metadata": {
        "id": "j4HCWjO_UoG5",
        "colab_type": "code",
        "colab": {}
      },
      "source": [
        "from torchvision.transforms import transforms\n",
        "import torch\n",
        "import torch.nn.functional as F\n",
        "import torch.nn as nn\n",
        "from torch.utils.data import Dataset, DataLoader, Subset\n",
        "from sklearn.model_selection import StratifiedKFold, GroupKFold, train_test_split\n",
        "import pandas as pd\n",
        "import os\n",
        "import numpy as np\n",
        "import warnings\n",
        "import matplotlib.pyplot as plt\n",
        "from efficientnet_pytorch import EfficientNet\n",
        "from resnet_pytorch import ResNet\n",
        "from tqdm import tqdm_notebook as tqdm\n",
        "from sklearn.metrics import roc_auc_score\n",
        "import torchvision\n",
        "torch.manual_seed(47)\n",
        "np.random.seed(47)\n",
        "%matplotlib inline"
      ],
      "execution_count": 1,
      "outputs": []
    },
    {
      "cell_type": "code",
      "metadata": {
        "id": "15a7aR6eUoCw",
        "colab_type": "code",
        "colab": {}
      },
      "source": [
        "import pandas as pd\n",
        "data = pd.read_csv('/content/drive/My Drive/cgiar/Train.csv')\n",
        "submission = pd.read_csv('/content/drive/My Drive/cgiar/SampleSubmission.csv')"
      ],
      "execution_count": 2,
      "outputs": []
    },
    {
      "cell_type": "code",
      "metadata": {
        "id": "zg-v4qtiZBF1",
        "colab_type": "code",
        "colab": {
          "base_uri": "https://localhost:8080/",
          "height": 204
        },
        "outputId": "1ac2b6ea-7ebe-4aa8-b4f4-00000c559d0e"
      },
      "source": [
        "data.head()"
      ],
      "execution_count": 5,
      "outputs": [
        {
          "output_type": "execute_result",
          "data": {
            "text/html": [
              "<div>\n",
              "<style scoped>\n",
              "    .dataframe tbody tr th:only-of-type {\n",
              "        vertical-align: middle;\n",
              "    }\n",
              "\n",
              "    .dataframe tbody tr th {\n",
              "        vertical-align: top;\n",
              "    }\n",
              "\n",
              "    .dataframe thead th {\n",
              "        text-align: right;\n",
              "    }\n",
              "</style>\n",
              "<table border=\"1\" class=\"dataframe\">\n",
              "  <thead>\n",
              "    <tr style=\"text-align: right;\">\n",
              "      <th></th>\n",
              "      <th>UID</th>\n",
              "      <th>growth_stage</th>\n",
              "      <th>label_quality</th>\n",
              "    </tr>\n",
              "  </thead>\n",
              "  <tbody>\n",
              "    <tr>\n",
              "      <th>0</th>\n",
              "      <td>nwuCTQKz</td>\n",
              "      <td>3</td>\n",
              "      <td>2</td>\n",
              "    </tr>\n",
              "    <tr>\n",
              "      <th>1</th>\n",
              "      <td>NVGUOzWu</td>\n",
              "      <td>0</td>\n",
              "      <td>1</td>\n",
              "    </tr>\n",
              "    <tr>\n",
              "      <th>2</th>\n",
              "      <td>1IYVvHwA</td>\n",
              "      <td>0</td>\n",
              "      <td>1</td>\n",
              "    </tr>\n",
              "    <tr>\n",
              "      <th>3</th>\n",
              "      <td>8OEdWwmU</td>\n",
              "      <td>0</td>\n",
              "      <td>1</td>\n",
              "    </tr>\n",
              "    <tr>\n",
              "      <th>4</th>\n",
              "      <td>oc5iO04j</td>\n",
              "      <td>0</td>\n",
              "      <td>1</td>\n",
              "    </tr>\n",
              "  </tbody>\n",
              "</table>\n",
              "</div>"
            ],
            "text/plain": [
              "        UID  growth_stage  label_quality\n",
              "0  nwuCTQKz             3              2\n",
              "1  NVGUOzWu             0              1\n",
              "2  1IYVvHwA             0              1\n",
              "3  8OEdWwmU             0              1\n",
              "4  oc5iO04j             0              1"
            ]
          },
          "metadata": {
            "tags": []
          },
          "execution_count": 5
        }
      ]
    },
    {
      "cell_type": "code",
      "metadata": {
        "id": "VEoEJpSMsQyY",
        "colab_type": "code",
        "colab": {}
      },
      "source": [
        "mapping = {1:0,2:1,3:2,4:3,5:4,6:5,7:6}\n",
        "data['growth_stage'] = data['growth_stage'].map(mapping)"
      ],
      "execution_count": 4,
      "outputs": []
    },
    {
      "cell_type": "code",
      "metadata": {
        "id": "Dn-52Cohc8C6",
        "colab_type": "code",
        "colab": {
          "base_uri": "https://localhost:8080/",
          "height": 204
        },
        "outputId": "a4fcf63f-3d67-4019-83aa-a57020ecd83f"
      },
      "source": [
        "submission.head()"
      ],
      "execution_count": 34,
      "outputs": [
        {
          "output_type": "execute_result",
          "data": {
            "text/html": [
              "<div>\n",
              "<style scoped>\n",
              "    .dataframe tbody tr th:only-of-type {\n",
              "        vertical-align: middle;\n",
              "    }\n",
              "\n",
              "    .dataframe tbody tr th {\n",
              "        vertical-align: top;\n",
              "    }\n",
              "\n",
              "    .dataframe thead th {\n",
              "        text-align: right;\n",
              "    }\n",
              "</style>\n",
              "<table border=\"1\" class=\"dataframe\">\n",
              "  <thead>\n",
              "    <tr style=\"text-align: right;\">\n",
              "      <th></th>\n",
              "      <th>UID</th>\n",
              "      <th>growth_stage</th>\n",
              "    </tr>\n",
              "  </thead>\n",
              "  <tbody>\n",
              "    <tr>\n",
              "      <th>0</th>\n",
              "      <td>F3LbWkZq</td>\n",
              "      <td>0</td>\n",
              "    </tr>\n",
              "    <tr>\n",
              "      <th>1</th>\n",
              "      <td>6P4wLVzI</td>\n",
              "      <td>0</td>\n",
              "    </tr>\n",
              "    <tr>\n",
              "      <th>2</th>\n",
              "      <td>Tn6HIrdS</td>\n",
              "      <td>0</td>\n",
              "    </tr>\n",
              "    <tr>\n",
              "      <th>3</th>\n",
              "      <td>EYM5R1TK</td>\n",
              "      <td>0</td>\n",
              "    </tr>\n",
              "    <tr>\n",
              "      <th>4</th>\n",
              "      <td>fkcevlA0</td>\n",
              "      <td>0</td>\n",
              "    </tr>\n",
              "  </tbody>\n",
              "</table>\n",
              "</div>"
            ],
            "text/plain": [
              "        UID  growth_stage\n",
              "0  F3LbWkZq             0\n",
              "1  6P4wLVzI             0\n",
              "2  Tn6HIrdS             0\n",
              "3  EYM5R1TK             0\n",
              "4  fkcevlA0             0"
            ]
          },
          "metadata": {
            "tags": []
          },
          "execution_count": 34
        }
      ]
    },
    {
      "cell_type": "code",
      "metadata": {
        "id": "lFSeS0F_c7-R",
        "colab_type": "code",
        "colab": {
          "base_uri": "https://localhost:8080/",
          "height": 34
        },
        "outputId": "8d0cebaa-a539-43d2-9019-0339c230fa14"
      },
      "source": [
        "submission.shape"
      ],
      "execution_count": 35,
      "outputs": [
        {
          "output_type": "execute_result",
          "data": {
            "text/plain": [
              "(3558, 2)"
            ]
          },
          "metadata": {
            "tags": []
          },
          "execution_count": 35
        }
      ]
    },
    {
      "cell_type": "code",
      "metadata": {
        "id": "G0Q02IMnZCVS",
        "colab_type": "code",
        "colab": {
          "base_uri": "https://localhost:8080/",
          "height": 153
        },
        "outputId": "d3acc558-1797-4070-b21e-519253bd477f"
      },
      "source": [
        "data.growth_stage.value_counts()"
      ],
      "execution_count": 6,
      "outputs": [
        {
          "output_type": "execute_result",
          "data": {
            "text/plain": [
              "0    3057\n",
              "6    2335\n",
              "3    1712\n",
              "1    1389\n",
              "4    1092\n",
              "2     689\n",
              "5     421\n",
              "Name: growth_stage, dtype: int64"
            ]
          },
          "metadata": {
            "tags": []
          },
          "execution_count": 6
        }
      ]
    },
    {
      "cell_type": "code",
      "metadata": {
        "id": "BfP307X0ZHK2",
        "colab_type": "code",
        "colab": {
          "base_uri": "https://localhost:8080/",
          "height": 68
        },
        "outputId": "7643b25f-7146-4609-e74d-780261808438"
      },
      "source": [
        "data.label_quality.value_counts()"
      ],
      "execution_count": 7,
      "outputs": [
        {
          "output_type": "execute_result",
          "data": {
            "text/plain": [
              "1    7839\n",
              "2    2856\n",
              "Name: label_quality, dtype: int64"
            ]
          },
          "metadata": {
            "tags": []
          },
          "execution_count": 7
        }
      ]
    },
    {
      "cell_type": "code",
      "metadata": {
        "id": "VAIM23b9ZNBs",
        "colab_type": "code",
        "colab": {
          "base_uri": "https://localhost:8080/",
          "height": 331
        },
        "outputId": "a6eea3d1-9ed6-439b-cbb8-da3cc0350671"
      },
      "source": [
        "import seaborn as sns\n",
        "sns.barplot(x='growth_stage',y='label_quality',data=data)"
      ],
      "execution_count": 8,
      "outputs": [
        {
          "output_type": "stream",
          "text": [
            "/usr/local/lib/python3.6/dist-packages/statsmodels/tools/_testing.py:19: FutureWarning: pandas.util.testing is deprecated. Use the functions in the public API at pandas.testing instead.\n",
            "  import pandas.util.testing as tm\n"
          ],
          "name": "stderr"
        },
        {
          "output_type": "execute_result",
          "data": {
            "text/plain": [
              "<matplotlib.axes._subplots.AxesSubplot at 0x7fe107c14860>"
            ]
          },
          "metadata": {
            "tags": []
          },
          "execution_count": 8
        },
        {
          "output_type": "display_data",
          "data": {
            "image/png": "[encoded data removed]",
            "text/plain": [
              "<Figure size 432x288 with 1 Axes>"
            ]
          },
          "metadata": {
            "tags": [],
            "needs_background": "light"
          }
        }
      ]
    },
    {
      "cell_type": "code",
      "metadata": {
        "id": "RGjHQzULZUWZ",
        "colab_type": "code",
        "colab": {
          "base_uri": "https://localhost:8080/",
          "height": 106
        },
        "outputId": "dcd45b4e-b5a9-426d-b4ff-53bf0fcdac9b"
      },
      "source": [
        "import matplotlib.image as img\n",
        "fig,ax = plt.subplots(1,5,figsize=(15,10))\n",
        "\n",
        "for i,idx in enumerate(data[data['growth_stage'] == 4]['UID'][-5:]):\n",
        "    path = '/content/Images/' + idx + '.jpeg'\n",
        "    ax[i].imshow(img.imread(path))"
      ],
      "execution_count": 9,
      "outputs": [
        {
          "output_type": "display_data",
          "data": {
            "image/png": "[encoded data removed]",
            "text/plain": [
              "<Figure size 1080x720 with 5 Axes>"
            ]
          },
          "metadata": {
            "tags": [],
            "needs_background": "light"
          }
        }
      ]
    },
    {
      "cell_type": "code",
      "metadata": {
        "id": "5zcmuaveaw8W",
        "colab_type": "code",
        "colab": {
          "base_uri": "https://localhost:8080/",
          "height": 555
        },
        "outputId": "d9ef7b6c-8550-44d4-b08a-ef100eaa7680"
      },
      "source": [
        "from PIL import Image\n",
        "import cv2\n",
        "plt.subplots(1,5,figsize=(15,3))\n",
        "for ind in data[data['growth_stage'] == 5]['UID'][-5:]:\n",
        "    pathe = '/content/Images/' + ind + '.jpeg'\n",
        "    \n",
        "    imgr = cv2.imread(pathe)\n",
        "    print(imgr.size)\n",
        "    imgr = cv2.resize(imgr,dsize=(256,256))\n",
        "\n",
        "    print(imgr.size)\n",
        "    print(imgr.shape)#oe)\n",
        "    #imgr = transforms.ToTensor(imgr)\n",
        "    print(type(imgr))\n",
        "    plt.imshow(imgr)"
      ],
      "execution_count": 10,
      "outputs": [
        {
          "output_type": "stream",
          "text": [
            "282624\n",
            "196608\n",
            "(256, 256, 3)\n",
            "<class 'numpy.ndarray'>\n",
            "273408\n",
            "196608\n",
            "(256, 256, 3)\n",
            "<class 'numpy.ndarray'>\n",
            "325632\n",
            "196608\n",
            "(256, 256, 3)\n",
            "<class 'numpy.ndarray'>\n",
            "244224\n",
            "196608\n",
            "(256, 256, 3)\n",
            "<class 'numpy.ndarray'>\n",
            "259584\n",
            "196608\n",
            "(256, 256, 3)\n",
            "<class 'numpy.ndarray'>\n"
          ],
          "name": "stdout"
        },
        {
          "output_type": "display_data",
          "data": {
            "image/png": "[encoded data removed]",
            "text/plain": [
              "<Figure size 1080x216 with 5 Axes>"
            ]
          },
          "metadata": {
            "tags": [],
            "needs_background": "light"
          }
        }
      ]
    },
    {
      "cell_type": "code",
      "metadata": {
        "id": "S4WLhP-sbc1v",
        "colab_type": "code",
        "colab": {}
      },
      "source": [
        "class CGIARGWHEAT(Dataset):\n",
        "    def __init__(self, data, traindata = None, transform = None):\n",
        "        super().__init__()\n",
        "        self.data = data\n",
        "        self.path = path\n",
        "        self.transform = transform\n",
        "        self.traindata = traindata\n",
        "    def __len__(self):\n",
        "        return len(self.data)\n",
        "    def __getitem__(self,index):\n",
        "        img_path = '/content/Images/' + self.data.iloc[index]['UID'] + '.jpeg'\n",
        "        #image = img\n",
        "        image = cv2.imread(img_path)\n",
        "        image = torch.Tensor(cv2.resize(image,dsize= (299,299))).permute(2,0,1)\n",
        "        # image = image[0:224, 0:224]\n",
        "        if self.transform:#s:\n",
        "            image = self.transform(image)#s(image)\n",
        "            \n",
        "        if self.traindata:\n",
        "            label = self.data.iloc[index]['growth_stage']\n",
        "            return image,label\n",
        "        else:\n",
        "            return image"
      ],
      "execution_count": 11,
      "outputs": []
    },
    {
      "cell_type": "code",
      "metadata": {
        "id": "MCccQeQ9eZXb",
        "colab_type": "code",
        "colab": {}
      },
      "source": [
        "train, valid_data = train_test_split(data, stratify=data.growth_stage,test_size=0.2)"
      ],
      "execution_count": 12,
      "outputs": []
    },
    {
      "cell_type": "code",
      "metadata": {
        "id": "V4CE7-Emec4I",
        "colab_type": "code",
        "colab": {}
      },
      "source": [
        "train_df = pd.merge(train,data,how='inner')\n",
        "valid_df = pd.merge(valid_data,data,how='inner')"
      ],
      "execution_count": 13,
      "outputs": []
    },
    {
      "cell_type": "code",
      "metadata": {
        "id": "P6A0ad3IfCSa",
        "colab_type": "code",
        "colab": {}
      },
      "source": [
        "transform = transforms.Normalize((0.453,0.455,0.435),(0.234,0.238,0.243))"
      ],
      "execution_count": 14,
      "outputs": []
    },
    {
      "cell_type": "code",
      "metadata": {
        "id": "1weWJxySdJYD",
        "colab_type": "code",
        "colab": {}
      },
      "source": [
        "train_data = CGIARGWHEAT(data = train_df,traindata=True,transform = transform)\n",
        "valid_data = CGIARGWHEAT(data = valid_df,traindata = True,transform = transform)\n",
        "test_data = CGIARGWHEAT(data = submission)"
      ],
      "execution_count": 15,
      "outputs": []
    },
    {
      "cell_type": "code",
      "metadata": {
        "id": "ygA-m_vefzkn",
        "colab_type": "code",
        "colab": {}
      },
      "source": [
        "num_classes = 7\n",
        "batch_size = 25\n",
        "learning_rate = 0.0001\n",
        "num_epochs = 10"
      ],
      "execution_count": 16,
      "outputs": []
    },
    {
      "cell_type": "code",
      "metadata": {
        "id": "ThsrtKjleufe",
        "colab_type": "code",
        "colab": {}
      },
      "source": [
        "train_loader = DataLoader(train_data,batch_size=batch_size)\n",
        "valid_loader = DataLoader(valid_data,batch_size=batch_size)\n",
        "test_laoder = DataLoader(test_data,batch_size=batch_size)"
      ],
      "execution_count": 17,
      "outputs": []
    },
    {
      "cell_type": "code",
      "metadata": {
        "id": "anmyAHSjhIGM",
        "colab_type": "code",
        "colab": {
          "base_uri": "https://localhost:8080/",
          "height": 34
        },
        "outputId": "41742e1d-db77-4482-bde3-9cd18e8faa37"
      },
      "source": [
        "device = torch.device('cuda:0' if torch.cuda.is_available() else 'cpu')\n",
        "device"
      ],
      "execution_count": 18,
      "outputs": [
        {
          "output_type": "execute_result",
          "data": {
            "text/plain": [
              "device(type='cuda', index=0)"
            ]
          },
          "metadata": {
            "tags": []
          },
          "execution_count": 18
        }
      ]
    },
    {
      "cell_type": "code",
      "metadata": {
        "id": "KM5KJioskx4i",
        "colab_type": "code",
        "colab": {}
      },
      "source": [
        "class RMSELoss(nn.Module):\n",
        "    def __init__(self, eps=1e-6):\n",
        "        super().__init__()\n",
        "        self.mse = nn.MSELoss()\n",
        "        self.eps = eps\n",
        "        \n",
        "    def forward(self,yhat,y):\n",
        "        loss = torch.sqrt(self.mse(yhat,y) + self.eps)\n",
        "        return loss"
      ],
      "execution_count": 49,
      "outputs": []
    },
    {
      "cell_type": "code",
      "metadata": {
        "id": "8oTl4wJUf8ET",
        "colab_type": "code",
        "colab": {}
      },
      "source": [
        "model_ft = torchvision.models.resnet18(pretrained=True)#lr=e4,2epoch 92, lr=e5,4epoch93\n",
        "# set_parameter_requires_grad(model_ft, feature_extract)\n",
        "num_ftrs = model_ft.fc.in_features\n",
        "model_ft.fc = nn.Linear(num_ftrs, num_classes)\n",
        "model_ft.to(device)\n",
        "criterion = nn.CrossEntropyLoss()\n",
        "optimizer = torch.optim.Adam(model_ft.parameters(),lr = learning_rate)"
      ],
      "execution_count": 19,
      "outputs": []
    },
    {
      "cell_type": "code",
      "metadata": {
        "id": "3n-Yp4SoYI90",
        "colab_type": "code",
        "colab": {}
      },
      "source": [
        "model_ft = torchvision.models.alexnet(pretrained=True)#lr=e4,4epoch 90.9 e5 86\n",
        "# set_parameter_requires_grad(model_ft, feature_extract)\n",
        "num_ftrs = model_ft.classifier[6].in_features\n",
        "model_ft.classifier[6] = nn.Linear(num_ftrs,num_classes)\n",
        "model_ft.to(device)\n",
        "criterion = RMSELoss()\n",
        "optimizer = torch.optim.Adam(model_ft.parameters(),lr = learning_rate)"
      ],
      "execution_count": null,
      "outputs": []
    },
    {
      "cell_type": "code",
      "metadata": {
        "id": "wPASopreZQzQ",
        "colab_type": "code",
        "colab": {}
      },
      "source": [
        "model_ft = torchvision.models.vgg11_bn(pretrained=True)#lr=e4,1epo ch 91 e5 93.5\n",
        "# set_parameter_requires_grad(model_ft, feature_extract)\n",
        "num_ftrs = model_ft.classifier[6].in_features\n",
        "model_ft.classifier[6] = nn.Linear(num_ftrs,num_classes)\n",
        "model_ft.to(device)\n",
        "criterion = RMSELoss()\n",
        "optimizer = torch.optim.Adam(model_ft.parameters(),lr = learning_rate)"
      ],
      "execution_count": null,
      "outputs": []
    },
    {
      "cell_type": "code",
      "metadata": {
        "id": "uShldI3Canvx",
        "colab_type": "code",
        "colab": {}
      },
      "source": [
        "model_ft = torchvision.models.densenet121(pretrained=True)\n",
        "# set_parameter_requires_grad(model_ft, feature_extract)\n",
        "num_ftrs = model_ft.classifier.in_features\n",
        "model_ft.classifier = nn.Linear(num_ftrs, num_classes)\n",
        "model_ft.to(device)\n",
        "criterion = RMSELoss()\n",
        "optimizer = torch.optim.Adam(model_ft.parameters(),lr = learning_rate)"
      ],
      "execution_count": null,
      "outputs": []
    },
    {
      "cell_type": "code",
      "metadata": {
        "id": "D_gd2eGexdB9",
        "colab_type": "code",
        "colab": {}
      },
      "source": [
        "# our dataloader is ready.\n",
        "# let's make model\n",
        "\n",
        "# building blocks for mobilenet.\n",
        "# name Conv and Conv_dw are following the terms used in mobilenet paper (https://arxiv.org/pdf/1704.04861.pdf)\n",
        "\n",
        "class Conv(nn.Module):\n",
        "    def __init__(self, in_channel, out_channel, kernel_size=3, stride=1, padding=1):\n",
        "        super().__init__()\n",
        "        self.layers = nn.Sequential(\n",
        "                nn.Conv2d(in_channel, out_channel, kernel_size=kernel_size, stride=stride, padding=padding, bias=False),\n",
        "                nn.BatchNorm2d(out_channel),\n",
        "                nn.ReLU(inplace=True)\n",
        "            )\n",
        "        \n",
        "    def forward(self, input):\n",
        "        return self.layers(input)\n",
        "    \n",
        "class Conv_dw_Conv(nn.Module):\n",
        "    # Conv dw layer followed by Conv layer.\n",
        "    # implemented this way since every conv dw layer is followed by conv layer with kernel size 1, stride 1 with some out_channel\n",
        "    def __init__(self, in_channel, out_channel, kernel_size=3, stride=1, padding=1):\n",
        "        super().__init__()\n",
        "        self.layers = nn.Sequential(\n",
        "                nn.Conv2d(in_channel, in_channel, kernel_size, stride, padding, bias=False, groups=in_channel),\n",
        "                nn.BatchNorm2d(in_channel),\n",
        "                nn.ReLU(inplace=True),\n",
        "                Conv(in_channel, out_channel, kernel_size=1, stride=1, padding=0)\n",
        "            )\n",
        "        \n",
        "    def forward(self, input):\n",
        "        return self.layers(input)\n",
        "    \n",
        "    \n",
        "class MobileNet(nn.Module):\n",
        "    def __init__(self, num_classes):\n",
        "        super().__init__()\n",
        "        \n",
        "        self.num_classes = num_classes\n",
        "        \n",
        "        self.model = nn.Sequential(\n",
        "                Conv(3, 32, stride=2),\n",
        "                Conv_dw_Conv(32, 64, kernel_size=3, stride=1),\n",
        "                Conv_dw_Conv(64, 128, kernel_size=3, stride=2),\n",
        "                Conv_dw_Conv(128, 128, kernel_size=3, stride=1),\n",
        "                Conv_dw_Conv(128, 256, kernel_size=3, stride=2),\n",
        "                Conv_dw_Conv(256, 256, kernel_size=3, stride=1),\n",
        "                Conv_dw_Conv(256, 512, kernel_size=3, stride=2),\n",
        "                Conv_dw_Conv(512, 512, kernel_size=3, stride=1),\n",
        "                Conv_dw_Conv(512, 512, kernel_size=3, stride=1),\n",
        "                Conv_dw_Conv(512, 512, kernel_size=3, stride=1),\n",
        "                Conv_dw_Conv(512, 512, kernel_size=3, stride=1),\n",
        "                Conv_dw_Conv(512, 512, kernel_size=3, stride=1),\n",
        "                Conv_dw_Conv(512, 1024, kernel_size=3, stride=2),\n",
        "                Conv_dw_Conv(1024, 1024, kernel_size=3, stride=1)\n",
        "        )\n",
        "        \n",
        "        \n",
        "        self.avg_pool = nn.AdaptiveAvgPool2d(1)\n",
        "        self.fc = nn.Linear(1024, num_classes)\n",
        "        \n",
        "    def forward(self, input):\n",
        "        x = self.model(input)\n",
        "        x = self.avg_pool(x)\n",
        "        x = x.view(-1, 1024)\n",
        "        out = self.fc(x)\n",
        "        return out"
      ],
      "execution_count": null,
      "outputs": []
    },
    {
      "cell_type": "code",
      "metadata": {
        "id": "YaIyuQ76xisq",
        "colab_type": "code",
        "colab": {}
      },
      "source": [
        "model_ft = MobileNet(1)\n",
        "model_ft.to(device)\n",
        "criterion = RMSELoss()\n",
        "optimizer = torch.optim.Adam(model_ft.parameters(),lr = learning_rate)"
      ],
      "execution_count": null,
      "outputs": []
    },
    {
      "cell_type": "code",
      "metadata": {
        "id": "M3A9PK1Lh4qG",
        "colab_type": "code",
        "colab": {}
      },
      "source": [
        "train_losses = []\n",
        "valid_losses = []\n",
        "for epoch in range(1):\n",
        "    y_true = []\n",
        "    y_pred = []\n",
        "    train_loss = 0.0\n",
        "    valid_loss = 0.0\n",
        "    # scheduler.step()\n",
        "    model_ft.train()\n",
        "    for data, target in train_loader:\n",
        "        data = data.to(device)\n",
        "        target = target.to(device)\n",
        "        optimizer.zero_grad()\n",
        "        output = model_ft(data)\n",
        "        # target = target.unsqueeze(1).type_as(output)\n",
        "        # loss = criterion(output, target)"
      ],
      "execution_count": 23,
      "outputs": []
    },
    {
      "cell_type": "code",
      "metadata": {
        "id": "Z1ZqGf7Slld2",
        "colab_type": "code",
        "colab": {
          "base_uri": "https://localhost:8080/",
          "height": 34
        },
        "outputId": "101d594f-9c78-43eb-d2bc-05b1c55f485d"
      },
      "source": [
        "target"
      ],
      "execution_count": 24,
      "outputs": [
        {
          "output_type": "execute_result",
          "data": {
            "text/plain": [
              "tensor([6, 4, 3, 5, 1, 1], device='cuda:0')"
            ]
          },
          "metadata": {
            "tags": []
          },
          "execution_count": 24
        }
      ]
    },
    {
      "cell_type": "code",
      "metadata": {
        "id": "0ukJhuPHkEmI",
        "colab_type": "code",
        "colab": {
          "base_uri": "https://localhost:8080/",
          "height": 136
        },
        "outputId": "71cf4f1d-e21c-4f7e-d223-fbec0af91409"
      },
      "source": [
        "output"
      ],
      "execution_count": 25,
      "outputs": [
        {
          "output_type": "execute_result",
          "data": {
            "text/plain": [
              "tensor([[-0.7882,  0.1036,  0.4125, -0.2800,  0.5659, -0.2653,  0.1713],\n",
              "        [-0.8685, -0.1910,  0.2144, -0.5314,  0.4028, -0.6414,  0.8012],\n",
              "        [-0.4101,  0.3524, -0.1244, -0.4314,  0.2074, -0.2937,  0.5329],\n",
              "        [-0.4588, -0.2886,  0.6394, -0.2731,  0.7608,  0.2184,  0.7387],\n",
              "        [-0.8790,  0.5373,  0.1165, -0.5636,  0.6182, -0.3715,  0.1328],\n",
              "        [-0.3240,  0.0858,  0.3622, -0.4931,  0.9702,  0.1672,  0.0119]],\n",
              "       device='cuda:0', grad_fn=<AddmmBackward>)"
            ]
          },
          "metadata": {
            "tags": []
          },
          "execution_count": 25
        }
      ]
    },
    {
      "cell_type": "code",
      "metadata": {
        "id": "eQgq4SnQpRRw",
        "colab_type": "code",
        "colab": {
          "base_uri": "https://localhost:8080/",
          "height": 34
        },
        "outputId": "36ce6acb-3e01-4deb-cebb-015d53d82986"
      },
      "source": [
        "criterion(output, target)"
      ],
      "execution_count": 26,
      "outputs": [
        {
          "output_type": "execute_result",
          "data": {
            "text/plain": [
              "tensor(1.9078, device='cuda:0', grad_fn=<NllLossBackward>)"
            ]
          },
          "metadata": {
            "tags": []
          },
          "execution_count": 26
        }
      ]
    },
    {
      "cell_type": "code",
      "metadata": {
        "id": "SZivmgChiLg_",
        "colab_type": "code",
        "colab": {
          "base_uri": "https://localhost:8080/",
          "height": 34
        },
        "outputId": "f08eddf5-318c-4afa-f784-e76eafb62320"
      },
      "source": [
        "target.dtype"
      ],
      "execution_count": null,
      "outputs": [
        {
          "output_type": "execute_result",
          "data": {
            "text/plain": [
              "torch.int64"
            ]
          },
          "metadata": {
            "tags": []
          },
          "execution_count": 21
        }
      ]
    },
    {
      "cell_type": "code",
      "metadata": {
        "id": "XcKfDQ7qhEJn",
        "colab_type": "code",
        "colab": {
          "base_uri": "https://localhost:8080/",
          "height": 34
        },
        "outputId": "b05cc519-c704-4fd1-cc46-eff76da00e8e"
      },
      "source": [
        "\n",
        "train_losses = []\n",
        "valid_losses = []\n",
        "for epoch in range(1, num_epochs + 1):\n",
        "    y_true = []\n",
        "    y_pred = []\n",
        "    train_loss = 0.0\n",
        "    valid_loss = 0.0\n",
        "    # scheduler.step()\n",
        "    model_ft.train()\n",
        "    for data, target in train_loader:\n",
        "        data = data.to(device)\n",
        "        target = target.to(device)\n",
        "        optimizer.zero_grad()\n",
        "        output = model_ft(data)\n",
        "        # target = target.unsqueeze(1).type_as(output)\n",
        "        loss = criterion(output, target)\n",
        "        loss.backward()\n",
        "        optimizer.step()\n",
        "        \n",
        "        train_loss += loss.item() * data.size(0)\n",
        "    model_ft.eval()\n",
        "    with torch.no_grad():\n",
        "        for data, target in valid_loader:\n",
        "            data = data.to(device)\n",
        "            target = target.to(device)\n",
        "            # target = target.unsqueeze(1).type_as(output)\n",
        "            output = model_ft(data)\n",
        "            loss = criterion(output, target)\n",
        "            valid_loss += loss.item() * data.size(0)\n",
        "    # calculate-average-losses\n",
        "    train_loss = train_loss/len(train_loader.sampler)\n",
        "    valid_loss = valid_loss/len(valid_loader.sampler)\n",
        "    train_losses.append(train_loss)\n",
        "    valid_losses.append(valid_loss)\n",
        "    # print-training/validation-statistics\n",
        "    print('Epoch: {} \\tTraining Loss: {:.6f} \\tValidation Loss: {:.6f}'.format(epoch, train_loss, valid_loss))"
      ],
      "execution_count": null,
      "outputs": [
        {
          "output_type": "stream",
          "text": [
            "Epoch: 1 \tTraining Loss: 1.043769 \tValidation Loss: 1.261589\n"
          ],
          "name": "stdout"
        }
      ]
    },
    {
      "cell_type": "code",
      "metadata": {
        "id": "765Imn4cqG03",
        "colab_type": "code",
        "colab": {}
      },
      "source": [
        "CUDA_LAUNCH_BLOCKING=1"
      ],
      "execution_count": 28,
      "outputs": []
    },
    {
      "cell_type": "code",
      "metadata": {
        "id": "pKV4AceBkiNL",
        "colab_type": "code",
        "colab": {}
      },
      "source": [
        " loss = nn.CrossEntropyLoss()\n"
      ],
      "execution_count": null,
      "outputs": []
    },
    {
      "cell_type": "code",
      "metadata": {
        "id": "IlsyLxnBkneI",
        "colab_type": "code",
        "colab": {
          "base_uri": "https://localhost:8080/",
          "height": 34
        },
        "outputId": "fef7e27d-c7c9-432a-ef5c-3d6d6cc9718b"
      },
      "source": [
        "target = torch.empty(3, dtype=torch.long).random_(5)\n",
        "target"
      ],
      "execution_count": null,
      "outputs": [
        {
          "output_type": "execute_result",
          "data": {
            "text/plain": [
              "tensor([0, 2, 2])"
            ]
          },
          "metadata": {
            "tags": []
          },
          "execution_count": 24
        }
      ]
    },
    {
      "cell_type": "code",
      "metadata": {
        "id": "u6IA9YPikkLi",
        "colab_type": "code",
        "colab": {
          "base_uri": "https://localhost:8080/",
          "height": 68
        },
        "outputId": "02710a07-b30f-435b-c43c-055463671133"
      },
      "source": [
        "input = torch.randn(3, 5, requires_grad=True)\n",
        "input"
      ],
      "execution_count": null,
      "outputs": [
        {
          "output_type": "execute_result",
          "data": {
            "text/plain": [
              "tensor([[-0.1304,  2.0132,  2.5291,  1.5805, -0.0435],\n",
              "        [-0.8022, -0.0723, -3.0012, -0.0636,  1.3841],\n",
              "        [-0.6424, -0.3733,  0.6781,  0.7314, -0.5286]], requires_grad=True)"
            ]
          },
          "metadata": {
            "tags": []
          },
          "execution_count": 25
        }
      ]
    },
    {
      "cell_type": "code",
      "metadata": {
        "id": "nEUaUsbaku46",
        "colab_type": "code",
        "colab": {}
      },
      "source": [
        ">>> output = loss(input, target)\n",
        ">>> output.backward()"
      ],
      "execution_count": null,
      "outputs": []
    },
    {
      "cell_type": "code",
      "metadata": {
        "id": "rqmYfnOsjcfZ",
        "colab_type": "code",
        "colab": {
          "base_uri": "https://localhost:8080/",
          "height": 35
        },
        "outputId": "c75d86fc-7b17-4599-c1da-fb393b7af3af"
      },
      "source": [
        "train_loss"
      ],
      "execution_count": null,
      "outputs": [
        {
          "output_type": "execute_result",
          "data": {
            "text/plain": [
              "5.062798955162979"
            ]
          },
          "metadata": {
            "tags": []
          },
          "execution_count": 54
        }
      ]
    },
    {
      "cell_type": "code",
      "metadata": {
        "id": "u2vz15Znj6L_",
        "colab_type": "code",
        "colab": {
          "base_uri": "https://localhost:8080/",
          "height": 230
        },
        "outputId": "61d86c46-def5-4a6b-a66c-f2970fdd9a27"
      },
      "source": [
        "target"
      ],
      "execution_count": null,
      "outputs": [
        {
          "output_type": "execute_result",
          "data": {
            "text/plain": [
              "('y0em5p4n',\n",
              " 'ac9MfLD6',\n",
              " 'LR7It1nK',\n",
              " 'iGteAfzq',\n",
              " 'ftJT9RdO',\n",
              " 'WOTCmI1A',\n",
              " 'jzaelHxw',\n",
              " 'gDCJrwa3',\n",
              " 'D9I5NUhb',\n",
              " 'lNjGreM2',\n",
              " 'VfLdFBaJ',\n",
              " 'GAxHNMba')"
            ]
          },
          "metadata": {
            "tags": []
          },
          "execution_count": 29
        }
      ]
    },
    {
      "cell_type": "code",
      "metadata": {
        "id": "FJGTa97Zj7qF",
        "colab_type": "code",
        "colab": {}
      },
      "source": [
        ""
      ],
      "execution_count": null,
      "outputs": []
    }
  ]
}